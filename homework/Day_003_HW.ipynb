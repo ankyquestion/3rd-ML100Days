{
 "cells": [
  {
   "cell_type": "markdown",
   "metadata": {},
   "source": [
    "作業 1：目標\n",
    "把模糊照片变得更清晰"
   ]
  },
  {
   "cell_type": "markdown",
   "metadata": {},
   "source": [
    "作業 2：方法\n",
    "步驟圖：\n",
    "原圖＿＿＿＿臉部修復＿＿＿＿＿合成＿超分＿修圖完畢\n",
    "   ｜＿低畫質修復＿高畫質增強＿｜\n",
    "   \n",
    "將圖縮小（解析度太高去噪會很久）後坐去噪、去模糊\n",
    "使用DGF(Deep Guided Filtering Network)網絡恢復為原始的解析度\n",
    "使用CNN人臉辨識框出臉部範圍並轉正\n",
    "使用BeautyGAN的生成能力，搭配StyleGAN的訓練方式，設計生成網絡\n",
    "將修好的臉貼回原圖\n",
    "利用超分網絡使整體畫質變的更清晰"
   ]
  },
  {
   "cell_type": "markdown",
   "metadata": {},
   "source": [
    "作業 3：資料來源 \n",
    "[拍照太糊？你需要了解下美图人像画质修复技术](https://www.jiqizhixin.com/articles/2019-09-05-9)"
   ]
  }
 ],
 "metadata": {
  "kernelspec": {
   "display_name": "Python 3",
   "language": "python",
   "name": "python3"
  },
  "language_info": {
   "codemirror_mode": {
    "name": "ipython",
    "version": 3
   },
   "file_extension": ".py",
   "mimetype": "text/x-python",
   "name": "python",
   "nbconvert_exporter": "python",
   "pygments_lexer": "ipython3",
   "version": "3.7.1"
  }
 },
 "nbformat": 4,
 "nbformat_minor": 2
}
