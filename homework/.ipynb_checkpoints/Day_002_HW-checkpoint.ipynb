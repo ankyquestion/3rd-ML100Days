{
 "cells": [
  {
   "cell_type": "markdown",
   "metadata": {},
   "source": [
    "### 思考題\n",
    "#### 請找出一個你認為機器學習可以發光發熱的領域並闡述原因?\n",
    "心裡領域。由於人類是一個很高異質性群體，以及特殊的研究道德等，因此在研究方面有諸多限制與不足，我認為機器學習總有一天可以模擬人類，並取得在真正人類無法執行的實驗數據（例如過去受到爭議的雙胞胎實驗），以此可以讓心理學領域的研究大有進展，現階段來說，也可以在臨床領域提供諸多幫助，例如利用文章、聲音等去判斷是否有憂鬱症、過動症等，或者透過Word2vec等方面協助心理學遠距聯想測驗的題目編制等。"
   ]
  }
 ],
 "metadata": {
  "kernelspec": {
   "display_name": "Python 3",
   "language": "python",
   "name": "python3"
  },
  "language_info": {
   "codemirror_mode": {
    "name": "ipython",
    "version": 3
   },
   "file_extension": ".py",
   "mimetype": "text/x-python",
   "name": "python",
   "nbconvert_exporter": "python",
   "pygments_lexer": "ipython3",
   "version": "3.7.1"
  }
 },
 "nbformat": 4,
 "nbformat_minor": 2
}
