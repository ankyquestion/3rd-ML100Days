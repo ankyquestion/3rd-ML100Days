{
 "cells": [
  {
   "cell_type": "code",
   "execution_count": 1,
   "metadata": {},
   "outputs": [],
   "source": [
    "import pandas as pd\n",
    "import numpy as np"
   ]
  },
  {
   "cell_type": "code",
   "execution_count": 36,
   "metadata": {},
   "outputs": [
    {
     "name": "stdout",
     "output_type": "stream",
     "text": [
      "  國家       人口\n",
      "0  a  9797550\n",
      "1  b  2410078\n",
      "2  c  6586172\n",
      "3  d  3099258\n",
      "4  e  3027097\n",
      "5  f  7762274\n",
      "6  g  3478469\n",
      "7  h  2811846\n",
      "8  i   957331\n",
      "9  j  1023398\n",
      "國家    object\n",
      "人口     int64\n",
      "dtype: object\n"
     ]
    }
   ],
   "source": [
    "data1 = {'國家':['a','b','c','d','e','f','g','h','i','j'],\n",
    "        '人口':(np.random.randint(10000000,size = 10)).tolist()}\n",
    "data1 = pd.DataFrame(data1)\n",
    "print(data1)\n",
    "print(data1.dtypes)"
   ]
  },
  {
   "cell_type": "code",
   "execution_count": 37,
   "metadata": {},
   "outputs": [
    {
     "name": "stdout",
     "output_type": "stream",
     "text": [
      "[('country', ['a', 'b', 'c', 'd', 'e', 'f', 'g', 'h', 'i', 'j']), ('population', [17137168, 71750874, 10329723, 43390881, 72544335, 53261636, 44961139, 71317082, 43280395, 28025322])]\n",
      "            0                                                  1\n",
      "0     country                     [a, b, c, d, e, f, g, h, i, j]\n",
      "1  population  [17137168, 71750874, 10329723, 43390881, 72544...\n",
      "  country  population\n",
      "0       a    17137168\n",
      "1       b    71750874\n",
      "2       c    10329723\n",
      "3       d    43390881\n",
      "4       e    72544335\n",
      "5       f    53261636\n",
      "6       g    44961139\n",
      "7       h    71317082\n",
      "8       i    43280395\n",
      "9       j    28025322\n"
     ]
    }
   ],
   "source": [
    "country = ['a','b','c','d','e','f','g','h','i','j']\n",
    "population = np.random.randint(100000000, size = 10).tolist()\n",
    "\n",
    "list_labels = ['country', 'population']\n",
    "list_cols = [country, population]\n",
    "zipped = list(zip(list_labels, list_cols))\n",
    "print(zipped)\n",
    "data2_try = pd.DataFrame(zipped)\n",
    "print(data2_try)\n",
    "data2 = pd.DataFrame(dict(zipped))\n",
    "print(data2)"
   ]
  },
  {
   "cell_type": "code",
   "execution_count": 46,
   "metadata": {},
   "outputs": [
    {
     "name": "stdout",
     "output_type": "stream",
     "text": [
      "a\n"
     ]
    }
   ],
   "source": [
    "index = data1['人口'].idxmax()\n",
    "print(data1['國家'][index])"
   ]
  },
  {
   "cell_type": "code",
   "execution_count": 47,
   "metadata": {},
   "outputs": [
    {
     "name": "stdout",
     "output_type": "stream",
     "text": [
      "e\n"
     ]
    }
   ],
   "source": [
    "index = data2['population'].idxmax()\n",
    "print(data2['country'][index])"
   ]
  },
  {
   "cell_type": "code",
   "execution_count": null,
   "metadata": {},
   "outputs": [],
   "source": []
  }
 ],
 "metadata": {
  "kernelspec": {
   "display_name": "Python 3",
   "language": "python",
   "name": "python3"
  },
  "language_info": {
   "codemirror_mode": {
    "name": "ipython",
    "version": 3
   },
   "file_extension": ".py",
   "mimetype": "text/x-python",
   "name": "python",
   "nbconvert_exporter": "python",
   "pygments_lexer": "ipython3",
   "version": "3.7.1"
  }
 },
 "nbformat": 4,
 "nbformat_minor": 2
}
