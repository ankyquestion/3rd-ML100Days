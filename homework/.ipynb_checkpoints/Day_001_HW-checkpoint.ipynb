{
 "cells": [
  {
   "cell_type": "markdown",
   "metadata": {},
   "source": [
    "# 作業一"
   ]
  },
  {
   "cell_type": "code",
   "execution_count": null,
   "metadata": {},
   "outputs": [],
   "source": [
    "# numpy 常用於數值/陣列運算, pandas 擅長資料格式的調整, matplotlib 擅長繪圖\n",
    "import numpy as np\n",
    "import matplotlib.pyplot as plt"
   ]
  },
  {
   "cell_type": "code",
   "execution_count": 12,
   "metadata": {},
   "outputs": [
    {
     "name": "stdout",
     "output_type": "stream",
     "text": [
      "[  0.   1.   2.   3.   4.   5.   6.   7.   8.   9.  10.  11.  12.  13.\n",
      "  14.  15.  16.  17.  18.  19.  20.  21.  22.  23.  24.  25.  26.  27.\n",
      "  28.  29.  30.  31.  32.  33.  34.  35.  36.  37.  38.  39.  40.  41.\n",
      "  42.  43.  44.  45.  46.  47.  48.  49.  50.  51.  52.  53.  54.  55.\n",
      "  56.  57.  58.  59.  60.  61.  62.  63.  64.  65.  66.  67.  68.  69.\n",
      "  70.  71.  72.  73.  74.  75.  76.  77.  78.  79.  80.  81.  82.  83.\n",
      "  84.  85.  86.  87.  88.  89.  90.  91.  92.  93.  94.  95.  96.  97.\n",
      "  98.  99. 100.]\n",
      "[ -9.1993874   21.78404727  15.08422098   8.71951593   0.35316597\n",
      "  38.1642838   -7.27127346  27.94029096  15.66505768  32.39177584\n",
      "  35.68963593  10.76997728   8.23606802  64.99779132  34.85470788\n",
      "  62.15811836  45.19980082  47.74219245  57.41633788  48.64041741\n",
      "  64.60737939  68.49364511  51.33878375  63.21257773  93.91295506\n",
      "  81.22321572  72.00381614  55.90060959  92.66168647 100.01783948\n",
      "  91.78965889  75.77361809 106.98637203 102.20539501  88.94408149\n",
      " 148.76773078  90.8356825   90.66844347 126.88460717 103.80600454\n",
      " 112.76034147 144.66094475 130.28851644 148.66443412 145.1018599\n",
      " 133.61088966 145.87262589 121.14999237 146.76910272 141.22932359\n",
      " 140.11643474 128.10868849 136.8865394  174.87571828 146.89216579\n",
      " 193.05245574 179.58255358 179.61948899 177.57573178 193.67553108\n",
      " 205.72799263 199.34373775 194.45765717 173.24814429 189.78827851\n",
      " 218.1600205  184.2962926  221.52555469 202.67577937 200.63338461\n",
      " 188.61306433 213.78124561 235.73700438 221.59916917 207.35614341\n",
      " 236.57257798 246.00810564 249.53369678 236.87823727 244.80485226\n",
      " 256.26019766 238.1868588  253.30544566 269.46504038 256.10741181\n",
      " 271.11373031 259.25410567 250.10014303 254.4237452  277.15681898\n",
      " 266.44183633 278.63361359 283.5760511  256.8570044  307.49514121\n",
      " 303.34549323 293.7635682  279.47931885 276.79405494 308.20117376\n",
      " 317.82319472]\n"
     ]
    },
    {
     "data": {
      "image/png": "[encoded data removed]",
      "text/plain": [
       "<Figure size 432x288 with 1 Axes>"
      ]
     },
     "metadata": {
      "needs_background": "light"
     },
     "output_type": "display_data"
    }
   ],
   "source": [
    "w = 3\n",
    "b = 0.5\n",
    "\n",
    "# np.linspace() 傳回的是一個 Array\n",
    "x_lin = np.linspace(0,100,101) #0~100 劃分成 101 個刻度\n",
    "print(x_lin)\n",
    "#np.random.randn(), 會隨機傳回標準常態分布的取樣值\n",
    "y = (x_lin + np.random.randn(101) * 5) * w + b #取樣了101次, 型態是 Array\n",
    "print(y)\n",
    "# b. : b 就是 blue, 點(.) 就是最小單位的形狀\n",
    "plt.plot(x_lin, y, 'b.', label = 'data points')\n",
    "plt.title('Assume we have data points')\n",
    "plt.legend(loc = 4) #1 >^ 2 <^ 3 <ˇ 4 >ˇ\n",
    "plt.show()"
   ]
  },
  {
   "cell_type": "code",
   "execution_count": 18,
   "metadata": {},
   "outputs": [
    {
     "data": {
      "text/plain": [
       "<function matplotlib.pyplot.show(*args, **kw)>"
      ]
     },
     "execution_count": 18,
     "metadata": {},
     "output_type": "execute_result"
    },
    {
     "data": {
      "image/png": "[encoded data removed]",
      "text/plain": [
       "<Figure size 432x288 with 1 Axes>"
      ]
     },
     "metadata": {
      "needs_background": "light"
     },
     "output_type": "display_data"
    }
   ],
   "source": [
    "y_hat = x_lin * w + b\n",
    "plt.plot(x_lin, y, '.b', label = 'data')\n",
    "# 'r-' 是紅色線狀\n",
    "plt.plot(y_hat, 'g-', label = 'prediction')\n",
    "plt.title('Assume we have data points (And the prediction)')\n",
    "plt.legend(loc = 2)\n",
    "plt.show"
   ]
  },
  {
   "cell_type": "code",
   "execution_count": 26,
   "metadata": {},
   "outputs": [
    {
     "name": "stdout",
     "output_type": "stream",
     "text": [
      "12.417866383902803\n",
      "The Mean absolute error is 12.418\n"
     ]
    }
   ],
   "source": [
    "def MAE(y, yp):\n",
    "    #abs()取絕對值\n",
    "    mae = sum(abs(y - yp)) / len(y)\n",
    "    return mae\n",
    "\n",
    "Ans = MAE(y, y_hat)\n",
    "print(Ans)\n",
    "print('The Mean absolute error is %.3f' % Ans)"
   ]
  },
  {
   "cell_type": "code",
   "execution_count": 28,
   "metadata": {},
   "outputs": [
    {
     "name": "stdout",
     "output_type": "stream",
     "text": [
      "12.417866383902803\n",
      "The Mean square error is 12.418\n"
     ]
    }
   ],
   "source": [
    "def MSE(y, yp):\n",
    "    mse = sum(np.sqrt(np.square(y - yp))) / len(y)\n",
    "    return mse\n",
    "\n",
    "Ans = MSE(y, y_hat)\n",
    "print(Ans)\n",
    "print('The Mean square error is %.3f' % Ans)"
   ]
  },
  {
   "cell_type": "markdown",
   "metadata": {},
   "source": [
    "# 作業二"
   ]
  },
  {
   "cell_type": "markdown",
   "metadata": {},
   "source": [
    "Stanford Dogs Dataset\n",
    "#### 1. 你選的這組資料為何重要\n",
    "內容有非常多品種的狗狗，若是使用機器學習辨識，他可以使不是動物專家也可以辨識狗狗的品種，或許在狗狗市場也可以藉此結果辨識該狗狗是否為純種狗。"
   ]
  },
  {
   "cell_type": "markdown",
   "metadata": {},
   "source": [
    "#### 2. 資料從何而來 (tips: 譬如提供者是誰、以什麼方式蒐集)\n",
    "提供者：Aditya Khosla、Nityananda Jayadevaprakash、Bangpeng Yao、Li Fei-Fei\n",
    "該數據集是使用ImageNet中的圖像和註釋建構的"
   ]
  },
  {
   "cell_type": "markdown",
   "metadata": {},
   "source": [
    "#### 3. 蒐集而來的資料型態為何\n",
    " - images/ 圖片\n",
    " - annotations/ 文字註釋\n",
    " - file_list.mat/ list  "
   ]
  },
  {
   "cell_type": "markdown",
   "metadata": {},
   "source": [
    "#### 4. 這組資料想解決的問題如何評估\n",
    "將模型預測值與答案對照算正確率"
   ]
  },
  {
   "cell_type": "markdown",
   "metadata": {},
   "source": [
    "# 作業三"
   ]
  },
  {
   "cell_type": "markdown",
   "metadata": {},
   "source": [
    "#### 1. 核心問題為何 (tips：如何定義 「提升業績 & 你的假設」)\n",
    "我定義「提升業績」為增加收入總量，目前提出兩個方法，一是增加載客量，二是提高價格。\n",
    "若想增加載客量，我假設在需求較多的時間地點佈置較多車輛可以得到較高收益，以及假設多接移動距離較短或總搭車時間較短的客人可以增加單位時間可載客的總數，提高收益。\n",
    "若想提高價格，我假設有錢人對於提高價格較無感，而較沒錢的客人若給與較優惠得價格可以增加下次搭乘的意願，因此針對客人經濟程度調整價格，可以同時增加收入以及收攏顧客。"
   ]
  },
  {
   "cell_type": "markdown",
   "metadata": {},
   "source": [
    "#### 2. 資料從何而來 (tips：哪些資料可能會對你想問的問題產生影響 & 資料如何蒐集)\n",
    "需要的資料包含：載客的地點、載客的時間、客人的目的地、到達目的地的時間、客人的經濟狀況。\n",
    "資料由各車司機收集，當接到客人時系統自動上傳時間與地點的座標，並由司機搭話判斷客人的經濟狀況，再行回報。"
   ]
  },
  {
   "cell_type": "markdown",
   "metadata": {},
   "source": [
    "#### 3. 蒐集而來的資料型態為何\n",
    "主要都是數值型態（時間與座標），經濟程度為等第資料（分四等地）。"
   ]
  },
  {
   "cell_type": "markdown",
   "metadata": {},
   "source": [
    "#### 4. 你要回答的問題，其如何評估 (tips：你的假設如何驗證)\n",
    "分析平均載客距離以及載客時間較短與較長的計程車做t test or anova，看看有沒有顯著。"
   ]
  }
 ],
 "metadata": {
  "kernelspec": {
   "display_name": "Python 3",
   "language": "python",
   "name": "python3"
  },
  "language_info": {
   "codemirror_mode": {
    "name": "ipython",
    "version": 3
   },
   "file_extension": ".py",
   "mimetype": "text/x-python",
   "name": "python",
   "nbconvert_exporter": "python",
   "pygments_lexer": "ipython3",
   "version": "3.7.1"
  }
 },
 "nbformat": 4,
 "nbformat_minor": 2
}
